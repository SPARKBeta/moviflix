{
 "cells": [
  {
   "cell_type": "code",
   "execution_count": 5,
   "metadata": {},
   "outputs": [],
   "source": []
  }
 ],
 "metadata": {
  "kernelspec": {
   "name": "python3",
   "display_name": "Python 3.8.8 64-bit ('base': conda)"
  },
  "interpreter": {
   "hash": "6125884f83fa56dabc8304d93f457fb1a717c8334e706a6735d7cfadb99ea681"
  }
 },
 "nbformat": 4,
 "nbformat_minor": 5
}