{
 "cells": [
  {
   "cell_type": "code",
   "execution_count": 1,
   "metadata": {},
   "outputs": [],
   "source": [
    "import pandas as pd\n",
    "df = pd.read_csv('model/movies.csv')\n",
    "#generalize data\n",
    "df['cast'] = df['cast'].str.replace(' ','')\n",
    "df['cast'] = df['cast'].str.replace(',',' ')\n",
    "df['genre'] = df['genre'].str.replace('&',' ')\n",
    "df['genre'] = df['genre'].str.replace(',',' ')\n",
    "df['country'] = df['country'].str.replace(' ','')\n",
    "df['country'] = df['country'].str.replace(',',' ')\n",
    "df.sort_values(by=('year'),axis=0,inplace=True,ascending=False)\n",
    "df.reset_index(drop=True,inplace=True)\n",
    "df['year'] = df['year'].astype(str)\n",
    "df['features'] = df['cast'] +' '+df['description']+' '+df['genre']+' '+df['year']+' '+df['country']\n",
    "from sklearn.feature_extraction.text import CountVectorizer\n",
    "from sklearn.metrics.pairwise import cosine_similarity\n",
    "cv = CountVectorizer()\n",
    "count_matrix = cv.fit_transform(df['features'])\n",
    "sim = cosine_similarity(count_matrix)\n",
    "print(count_matrix)\n",
    "\n",
    "clean_df  = pd.read_csv('model/movies_updated.csv')\n"
   ]
  },
  {
   "cell_type": "code",
   "execution_count": 6,
   "metadata": {},
   "outputs": [
    {
     "name": "stdout",
     "output_type": "stream",
     "text": [
      "['Baaghi', 'Rich in Love', 'Veerey Ki Wedding', 'Tanu Weds Manu', 'The Legend of Michael Mishra', 'Settai', 'Bazaar', 'Zaki Chan', 'Gori Tere Pyaar Mein', 'Back to the 90s']\n"
     ]
    }
   ],
   "source": [
    "name = \"Bheeshma\"\n",
    "name = name.lower()\n",
    "df['title']=df['title'].str.lower()\n",
    "if name not in df['title'].unique():\n",
    "    print('Try Aboslute Spelling or it may not be in our database')\n",
    "else:\n",
    "    i = df.loc[df['title']==name].index[0]\n",
    "    mov_id = list(enumerate(sim[i]))\n",
    "    mov_id = sorted(mov_id,key = lambda x:x[1],reverse=True)\n",
    "    mov_id = mov_id[1:11]\n",
    "    rec_mov = []\n",
    "    for i in range(len(mov_id)):\n",
    "       a = mov_id[i][0]\n",
    "       rec_mov.append(clean_df['title'][a])\n",
    "print(rec_mov)"
   ]
  }
 ],
 "metadata": {
  "interpreter": {
   "hash": "6125884f83fa56dabc8304d93f457fb1a717c8334e706a6735d7cfadb99ea681"
  },
  "kernelspec": {
   "display_name": "Python 3.8.8 64-bit ('base': conda)",
   "name": "python3"
  },
  "language_info": {
   "codemirror_mode": {
    "name": "ipython",
    "version": 3
   },
   "file_extension": ".py",
   "mimetype": "text/x-python",
   "name": "python",
   "nbconvert_exporter": "python",
   "pygments_lexer": "ipython3",
   "version": "3.8.8"
  }
 },
 "nbformat": 4,
 "nbformat_minor": 5
}